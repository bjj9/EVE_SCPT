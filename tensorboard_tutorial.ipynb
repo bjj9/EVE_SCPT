{
  "cells": [
    {
      "cell_type": "code",
      "execution_count": null,
      "metadata": {
        "collapsed": false
      },
      "outputs": [],
      "source": [
        "%matplotlib inline"
      ]
    },
    {
      "cell_type": "markdown",
      "metadata": {},
      "source": [
        "\nHow to use TensorBoard with PyTorch\n===================================\nTensorBoard is a visualization toolkit for machine learning experimentation. \nTensorBoard allows tracking and visualizing metrics such as loss and accuracy, \nvisualizing the model graph, viewing histograms, displaying images and much more. \nIn this tutorial we are going to cover TensorBoard installation, \nbasic usage with PyTorch, and how to visualize data you logged in TensorBoard UI.\n\nInstallation\n----------------------\nPyTorch should be installed to log models and metrics into TensorBoard log \ndirectory. The following command will install PyTorch 1.4+ via \nAnaconda (recommended):\n\n::\n\n   $ conda install pytorch torchvision -c pytorch \n   \n\nor pip\n\n::\n\n   $ pip install torch torchvision\n\n\n"
      ]
    },
    {
      "cell_type": "markdown",
      "metadata": {},
      "source": [
        "Using TensorBoard in PyTorch\n-----\n\nLet\u2019s now try using TensorBoard with PyTorch! Before logging anything, \nwe need to create a ``SummaryWriter`` instance.\n\n\n"
      ]
    },
    {
      "cell_type": "code",
      "execution_count": null,
      "metadata": {
        "collapsed": false
      },
      "outputs": [],
      "source": [
        "import torch\nfrom torch.utils.tensorboard import SummaryWriter\nwriter = SummaryWriter()"
      ]
    },
    {
      "cell_type": "markdown",
      "metadata": {},
      "source": [
        "Writer will output to ``./runs/`` directory by default.\n\n\n"
      ]
    },
    {
      "cell_type": "markdown",
      "metadata": {},
      "source": [
        "Log scalars\n-----\n\nIn machine learning, it\u2019s important to understand key metrics such as \nloss and how they change during training. Scalar helps to save \nthe loss value of each training step, or the accuracy after each epoch. \n\nTo log a scalar value, use \n``add_scalar(tag, scalar_value, global_step=None, walltime=None)``. \nFor example, lets create a simple linear regression training, and \nlog loss value using ``add_scalar``\n\n\n"
      ]
    },
    {
      "cell_type": "code",
      "execution_count": null,
      "metadata": {
        "collapsed": false
      },
      "outputs": [],
      "source": [
        "x = torch.arange(-5, 5, 0.1).view(-1, 1)\ny = -5 * x + 0.1 * torch.randn(x.size())\n\nmodel = torch.nn.Linear(1, 1)\ncriterion = torch.nn.MSELoss()\noptimizer = torch.optim.SGD(model.parameters(), lr = 0.1)\n\ndef train_model(iter):\n    for epoch in range(iter):\n        y1 = model(x)\n        loss = criterion(y1, y)\n        writer.add_scalar(\"Loss/train\", loss, epoch)\n        optimizer.zero_grad()\n        loss.backward()\n        optimizer.step()\n        \ntrain_model(10)\nwriter.flush()"
      ]
    },
    {
      "cell_type": "markdown",
      "metadata": {},
      "source": [
        "Call ``flush()`` method to make sure that all pending events \nhave been written to disk.\n\nSee `torch.utils.tensorboard tutorials <https://pytorch.org/docs/stable/tensorboard.html>`_ \nto find more TensorBoard visualization types you can log.\n\nIf you do not need the summary writer anymore, call ``close()`` method.\n\n\n"
      ]
    },
    {
      "cell_type": "code",
      "execution_count": null,
      "metadata": {
        "collapsed": false
      },
      "outputs": [],
      "source": [
        "writer.close()"
      ]
    },
    {
      "cell_type": "markdown",
      "metadata": {},
      "source": [
        "Run TensorBoard\n-----\n\nInstall TensorBoard through the command line to visualize data you logged\n\n::\n\n   $ pip install tensorboard\n\n\nNow, start TensorBoard, specifying the root log directory you used above. \nArgument ``logdir`` points to directory where TensorBoard will look to find \nevent files that it can display. TensorBoard will recursively walk \nthe directory structure rooted at logdir, looking for .*tfevents.* files.\n\n::\n\n   $ tensorboard --logdir=runs\n\nGo to the URL it provides OR to `http://localhost:6006/ <http://localhost:6006/>`_\n\n![](../../_static/img/thumbnails/tensorboard_scalars.png)\n\n   :scale: 40 %\n\nThis dashboard shows how the loss and accuracy change with every epoch. \nYou can use it to also track training speed, learning rate, and other \nscalar values. It\u2019s helpful to compare these metrics across different \ntraining runs to improve your model.\n\n\n"
      ]
    },
    {
      "cell_type": "markdown",
      "metadata": {},
      "source": [
        "Share TensorBoard dashboards\n-----\n\n`TensorBoard.dev <https://tensorboard.dev/>`_ lets you upload and share \nyour ML experiment results with anyone. Use TensorBoard.dev to host, \ntrack, and share your TensorBoard dashboards.\n\nInstall the latest version of TensorBoard to use the uploader.\n\n:: \n\n   $ pip install tensorboard --upgrade\n\nUse a simple command to upload and share your TensorBoard.\n\n:: \n\n  $ tensorboard dev upload --logdir runs \\\n  --name \"My latest experiment\" \\ # optional\n  --description \"Simple comparison of several hyperparameters\" # optional\n\nFor help, run ``$ tensorboard dev --help``.\n\n**Note:** Uploaded TensorBoards are public and visible to everyone. \nDo not upload sensitive data.\n\nView your TensorBoard live at URL provided in your terminal. \nE.g. `https://tensorboard.dev/experiment/AdYd1TgeTlaLWXx6I8JUbA <https://tensorboard.dev/experiment/AdYd1TgeTlaLWXx6I8JUbA>`_\n\n\n![](../../_static/img/thumbnails/tensorboard_dev.png)\n\n   :scale: 40 %\n\n\n<div class=\"alert alert-info\"><h4>Note</h4><p>TensorBoard.dev currently supports only scalars dashboard.</p></div>\n\n"
      ]
    },
    {
      "cell_type": "markdown",
      "metadata": {},
      "source": [
        "Learn More\n----------------------------\n\n-  `torch.utils.tensorboard <https://pytorch.org/docs/stable/tensorboard.html>`_ docs\n-  `Visualizing models, data, and training with TensorBoard <https://pytorch.org/tutorials/intermediate/tensorboard_tutorial.html>`_ tutorial\n\n\n"
      ]
    }
  ],
  "metadata": {
    "kernelspec": {
      "display_name": "Python 3",
      "language": "python",
      "name": "python3"
    },
    "language_info": {
      "codemirror_mode": {
        "name": "ipython",
        "version": 3
      },
      "file_extension": ".py",
      "mimetype": "text/x-python",
      "name": "python",
      "nbconvert_exporter": "python",
      "pygments_lexer": "ipython3",
      "version": "3.6.8"
    }
  },
  "nbformat": 4,
  "nbformat_minor": 0
}